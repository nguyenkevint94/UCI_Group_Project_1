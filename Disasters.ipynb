{
 "cells": [
  {
   "cell_type": "code",
   "execution_count": 2,
   "metadata": {},
   "outputs": [
    {
     "name": "stdout",
     "output_type": "stream",
     "text": [
      "Requirement already satisfied: plotly in c:\\users\\ktngu\\anaconda3\\lib\\site-packages (2.7.0)\n",
      "Requirement already satisfied: decorator>=4.0.6 in c:\\users\\ktngu\\anaconda3\\lib\\site-packages (from plotly) (4.2.1)\n",
      "Requirement already satisfied: requests in c:\\users\\ktngu\\anaconda3\\lib\\site-packages (from plotly) (2.18.4)\n",
      "Requirement already satisfied: nbformat>=4.2 in c:\\users\\ktngu\\anaconda3\\lib\\site-packages (from plotly) (4.4.0)\n",
      "Requirement already satisfied: pytz in c:\\users\\ktngu\\anaconda3\\lib\\site-packages (from plotly) (2017.3)\n",
      "Requirement already satisfied: six in c:\\users\\ktngu\\anaconda3\\lib\\site-packages (from plotly) (1.11.0)\n",
      "Requirement already satisfied: chardet<3.1.0,>=3.0.2 in c:\\users\\ktngu\\anaconda3\\lib\\site-packages (from requests->plotly) (3.0.4)\n",
      "Requirement already satisfied: idna<2.7,>=2.5 in c:\\users\\ktngu\\anaconda3\\lib\\site-packages (from requests->plotly) (2.6)\n",
      "Requirement already satisfied: urllib3<1.23,>=1.21.1 in c:\\users\\ktngu\\anaconda3\\lib\\site-packages (from requests->plotly) (1.22)\n",
      "Requirement already satisfied: certifi>=2017.4.17 in c:\\users\\ktngu\\anaconda3\\lib\\site-packages (from requests->plotly) (2018.4.16)\n",
      "Requirement already satisfied: ipython_genutils in c:\\users\\ktngu\\anaconda3\\lib\\site-packages (from nbformat>=4.2->plotly) (0.2.0)\n",
      "Requirement already satisfied: traitlets>=4.1 in c:\\users\\ktngu\\anaconda3\\lib\\site-packages (from nbformat>=4.2->plotly) (4.3.2)\n",
      "Requirement already satisfied: jsonschema!=2.5.0,>=2.4 in c:\\users\\ktngu\\anaconda3\\lib\\site-packages (from nbformat>=4.2->plotly) (2.6.0)\n",
      "Requirement already satisfied: jupyter_core in c:\\users\\ktngu\\anaconda3\\lib\\site-packages (from nbformat>=4.2->plotly) (4.4.0)\n",
      "Requirement already satisfied: geopandas in c:\\users\\ktngu\\anaconda3\\lib\\site-packages (0.3.0)\n",
      "Requirement already satisfied: pandas in c:\\users\\ktngu\\anaconda3\\lib\\site-packages (from geopandas) (0.22.0)\n",
      "Requirement already satisfied: shapely in c:\\users\\ktngu\\anaconda3\\lib\\site-packages (from geopandas) (1.6.4.post1)\n",
      "Requirement already satisfied: fiona in c:\\users\\ktngu\\anaconda3\\lib\\site-packages (from geopandas) (1.7.9)\n",
      "Requirement already satisfied: descartes in c:\\users\\ktngu\\anaconda3\\lib\\site-packages (from geopandas) (1.1.0)\n",
      "Requirement already satisfied: pyproj in c:\\users\\ktngu\\anaconda3\\lib\\site-packages (from geopandas) (1.9.5.1)\n",
      "Requirement already satisfied: python-dateutil>=2 in c:\\users\\ktngu\\anaconda3\\lib\\site-packages (from pandas->geopandas) (2.6.1)\n",
      "Requirement already satisfied: pytz>=2011k in c:\\users\\ktngu\\anaconda3\\lib\\site-packages (from pandas->geopandas) (2017.3)\n",
      "Requirement already satisfied: numpy>=1.9.0 in c:\\users\\ktngu\\anaconda3\\lib\\site-packages (from pandas->geopandas) (1.14.0)\n",
      "Requirement already satisfied: cligj in c:\\users\\ktngu\\anaconda3\\lib\\site-packages (from fiona->geopandas) (0.4.0)\n",
      "Requirement already satisfied: click-plugins in c:\\users\\ktngu\\anaconda3\\lib\\site-packages (from fiona->geopandas) (1.0.3)\n",
      "Requirement already satisfied: six in c:\\users\\ktngu\\anaconda3\\lib\\site-packages (from fiona->geopandas) (1.11.0)\n",
      "Requirement already satisfied: munch in c:\\users\\ktngu\\anaconda3\\lib\\site-packages (from fiona->geopandas) (2.3.2)\n",
      "Requirement already satisfied: matplotlib in c:\\users\\ktngu\\anaconda3\\lib\\site-packages (from descartes->geopandas) (2.1.2)\n",
      "Requirement already satisfied: click>=4.0 in c:\\users\\ktngu\\anaconda3\\lib\\site-packages (from cligj->fiona->geopandas) (6.7)\n",
      "Requirement already satisfied: cycler>=0.10 in c:\\users\\ktngu\\anaconda3\\lib\\site-packages (from matplotlib->descartes->geopandas) (0.10.0)\n",
      "Requirement already satisfied: pyparsing!=2.0.4,!=2.1.2,!=2.1.6,>=2.0.1 in c:\\users\\ktngu\\anaconda3\\lib\\site-packages (from matplotlib->descartes->geopandas) (2.2.0)\n",
      "Requirement already satisfied: pyshp in c:\\users\\ktngu\\anaconda3\\lib\\site-packages (1.2.10)\n",
      "Requirement already satisfied: shapely in c:\\users\\ktngu\\anaconda3\\lib\\site-packages (1.6.4.post1)\n"
     ]
    }
   ],
   "source": [
    "! pip install plotly\n",
    "! pip install geopandas\n",
    "! pip install pyshp\n",
    "! pip install shapely"
   ]
  },
  {
   "cell_type": "code",
   "execution_count": 3,
   "metadata": {},
   "outputs": [],
   "source": [
    "import csv\n",
    "import pandas as pd\n",
    "import numpy as np\n",
    "import matplotlib.pyplot as plt\n",
    "import plotly\n",
    "from config import api_key\n",
    "plotly.tools.set_credentials_file(username='nguyenkevint94',api_key=api_key)\n",
    "import plotly.plotly as py\n",
    "import plotly.figure_factory as ff"
   ]
  },
  {
   "cell_type": "code",
   "execution_count": 4,
   "metadata": {},
   "outputs": [
    {
     "data": {
      "text/html": [
       "<div>\n",
       "<style scoped>\n",
       "    .dataframe tbody tr th:only-of-type {\n",
       "        vertical-align: middle;\n",
       "    }\n",
       "\n",
       "    .dataframe tbody tr th {\n",
       "        vertical-align: top;\n",
       "    }\n",
       "\n",
       "    .dataframe thead th {\n",
       "        text-align: right;\n",
       "    }\n",
       "</style>\n",
       "<table border=\"1\" class=\"dataframe\">\n",
       "  <thead>\n",
       "    <tr style=\"text-align: right;\">\n",
       "      <th></th>\n",
       "      <th>fips-new</th>\n",
       "      <th>disaster category</th>\n",
       "      <th>NAME10</th>\n",
       "      <th>NAMELSAD10</th>\n",
       "      <th>disaster</th>\n",
       "      <th>disaster_nodrought</th>\n",
       "      <th>severe</th>\n",
       "      <th>supersevere</th>\n",
       "    </tr>\n",
       "  </thead>\n",
       "  <tbody>\n",
       "    <tr>\n",
       "      <th>0</th>\n",
       "      <td>1001</td>\n",
       "      <td>4</td>\n",
       "      <td>Autauga</td>\n",
       "      <td>Autauga County</td>\n",
       "      <td>23</td>\n",
       "      <td>22</td>\n",
       "      <td>3</td>\n",
       "      <td>2</td>\n",
       "    </tr>\n",
       "    <tr>\n",
       "      <th>1</th>\n",
       "      <td>1003</td>\n",
       "      <td>4</td>\n",
       "      <td>Baldwin</td>\n",
       "      <td>Baldwin County</td>\n",
       "      <td>29</td>\n",
       "      <td>28</td>\n",
       "      <td>3</td>\n",
       "      <td>2</td>\n",
       "    </tr>\n",
       "    <tr>\n",
       "      <th>2</th>\n",
       "      <td>1005</td>\n",
       "      <td>4</td>\n",
       "      <td>Barbour</td>\n",
       "      <td>Barbour County</td>\n",
       "      <td>20</td>\n",
       "      <td>19</td>\n",
       "      <td>4</td>\n",
       "      <td>4</td>\n",
       "    </tr>\n",
       "    <tr>\n",
       "      <th>3</th>\n",
       "      <td>1007</td>\n",
       "      <td>3</td>\n",
       "      <td>Bibb</td>\n",
       "      <td>Bibb County</td>\n",
       "      <td>17</td>\n",
       "      <td>16</td>\n",
       "      <td>3</td>\n",
       "      <td>2</td>\n",
       "    </tr>\n",
       "    <tr>\n",
       "      <th>4</th>\n",
       "      <td>1009</td>\n",
       "      <td>3</td>\n",
       "      <td>Blount</td>\n",
       "      <td>Blount County</td>\n",
       "      <td>18</td>\n",
       "      <td>17</td>\n",
       "      <td>3</td>\n",
       "      <td>3</td>\n",
       "    </tr>\n",
       "  </tbody>\n",
       "</table>\n",
       "</div>"
      ],
      "text/plain": [
       "   fips-new  disaster category   NAME10      NAMELSAD10  disaster  \\\n",
       "0      1001                  4  Autauga  Autauga County        23   \n",
       "1      1003                  4  Baldwin  Baldwin County        29   \n",
       "2      1005                  4  Barbour  Barbour County        20   \n",
       "3      1007                  3     Bibb     Bibb County        17   \n",
       "4      1009                  3   Blount   Blount County        18   \n",
       "\n",
       "   disaster_nodrought  severe  supersevere  \n",
       "0                  22       3            2  \n",
       "1                  28       3            2  \n",
       "2                  19       4            4  \n",
       "3                  16       3            2  \n",
       "4                  17       3            3  "
      ]
     },
     "execution_count": 4,
     "metadata": {},
     "output_type": "execute_result"
    }
   ],
   "source": [
    "disaster_reader = pd.read_csv(\"data-ElSJG.csv\")\n",
    "disaster_reader.head()"
   ]
  },
  {
   "cell_type": "code",
   "execution_count": 5,
   "metadata": {},
   "outputs": [
    {
     "data": {
      "text/html": [
       "<div>\n",
       "<style scoped>\n",
       "    .dataframe tbody tr th:only-of-type {\n",
       "        vertical-align: middle;\n",
       "    }\n",
       "\n",
       "    .dataframe tbody tr th {\n",
       "        vertical-align: top;\n",
       "    }\n",
       "\n",
       "    .dataframe thead th {\n",
       "        text-align: right;\n",
       "    }\n",
       "</style>\n",
       "<table border=\"1\" class=\"dataframe\">\n",
       "  <thead>\n",
       "    <tr style=\"text-align: right;\">\n",
       "      <th></th>\n",
       "      <th>fips-new</th>\n",
       "      <th>NAMELSAD10</th>\n",
       "      <th>disaster</th>\n",
       "      <th>severe</th>\n",
       "      <th>supersevere</th>\n",
       "    </tr>\n",
       "  </thead>\n",
       "  <tbody>\n",
       "    <tr>\n",
       "      <th>0</th>\n",
       "      <td>6001</td>\n",
       "      <td>Alameda County</td>\n",
       "      <td>20</td>\n",
       "      <td>3</td>\n",
       "      <td>0</td>\n",
       "    </tr>\n",
       "    <tr>\n",
       "      <th>1</th>\n",
       "      <td>6003</td>\n",
       "      <td>Alpine County</td>\n",
       "      <td>8</td>\n",
       "      <td>3</td>\n",
       "      <td>0</td>\n",
       "    </tr>\n",
       "    <tr>\n",
       "      <th>2</th>\n",
       "      <td>6005</td>\n",
       "      <td>Amador County</td>\n",
       "      <td>13</td>\n",
       "      <td>3</td>\n",
       "      <td>1</td>\n",
       "    </tr>\n",
       "    <tr>\n",
       "      <th>3</th>\n",
       "      <td>6007</td>\n",
       "      <td>Butte County</td>\n",
       "      <td>19</td>\n",
       "      <td>3</td>\n",
       "      <td>0</td>\n",
       "    </tr>\n",
       "    <tr>\n",
       "      <th>4</th>\n",
       "      <td>6009</td>\n",
       "      <td>Calaveras County</td>\n",
       "      <td>13</td>\n",
       "      <td>2</td>\n",
       "      <td>0</td>\n",
       "    </tr>\n",
       "  </tbody>\n",
       "</table>\n",
       "</div>"
      ],
      "text/plain": [
       "  fips-new        NAMELSAD10  disaster  severe  supersevere\n",
       "0     6001    Alameda County        20       3            0\n",
       "1     6003     Alpine County         8       3            0\n",
       "2     6005     Amador County        13       3            1\n",
       "3     6007      Butte County        19       3            0\n",
       "4     6009  Calaveras County        13       2            0"
      ]
     },
     "execution_count": 5,
     "metadata": {},
     "output_type": "execute_result"
    }
   ],
   "source": [
    "# Grabbing all CA counties using .loc\n",
    "six = disaster_reader.loc[disaster_reader[\"fips-new\"]>6000].reset_index(drop=True)\n",
    "ca_counties = six.loc[six[\"fips-new\"]<7000,[\"fips-new\",\"NAMELSAD10\",\"disaster\",\"severe\",\"supersevere\"]]\n",
    "ca_counties.loc[:,\"fips-new\"] = ca_counties[\"fips-new\"].map(\"{:03d}\".format)\n",
    "ca_counties.to_csv(\"historical_disaster_data.csv\")\n",
    "ca_counties.head()"
   ]
  },
  {
   "cell_type": "code",
   "execution_count": 6,
   "metadata": {},
   "outputs": [
    {
     "data": {
      "text/plain": [
       "[6.0, 15.625, 25.25, 34.875, 44.5, 54.125, 63.75, 73.375, 83.0]"
      ]
     },
     "execution_count": 6,
     "metadata": {},
     "output_type": "execute_result"
    }
   ],
   "source": [
    "# Setup for plot\n",
    "fip_codes = ca_counties[\"fips-new\"].str.zfill(5)\n",
    "disaster_count = ca_counties[\"disaster\"]\n",
    "colorscale = [\"00E501\",\"31E000\",\"63DC00\",\"92D800\",\"C0D400\",\"CFB300\",\"CB8100\",\"C75000\",\"C32200\",\"BF0009\"]\n",
    "endpts = list(np.linspace(ca_counties[\"disaster\"].min(),ca_counties[\"disaster\"].max(), len(colorscale)-1))\n",
    "endpts"
   ]
  },
  {
   "cell_type": "code",
   "execution_count": 7,
   "metadata": {},
   "outputs": [
    {
     "data": {
      "text/html": [
       "<iframe id=\"igraph\" scrolling=\"no\" style=\"border:none;\" seamless=\"seamless\" src=\"https://plot.ly/~nguyenkevint94/28.embed\" height=\"450px\" width=\"900px\"></iframe>"
      ],
      "text/plain": [
       "<plotly.tools.PlotlyDisplay object>"
      ]
     },
     "execution_count": 7,
     "metadata": {},
     "output_type": "execute_result"
    }
   ],
   "source": [
    "# Map plot\n",
    "fig = ff.create_choropleth(\n",
    "   fips=fip_codes, values=disaster_count, scope=['California'], binning_endpoints=endpts, colorscale=colorscale,\n",
    "   county_outline={'color': 'rgb(255,255,255)', 'width': 0.5}, show_state_data=False, show_hover=True,  \n",
    "   asp=2.9, title='Number of Disasters by County from 1930 to 2010', legend_title='Number of Disasters')\n",
    "\n",
    "py.iplot(fig)"
   ]
  },
  {
   "cell_type": "code",
   "execution_count": 8,
   "metadata": {},
   "outputs": [
    {
     "data": {
      "text/plain": [
       "fips-new       object\n",
       "NAMELSAD10     object\n",
       "disaster        int64\n",
       "severe          int64\n",
       "supersevere     int64\n",
       "dtype: object"
      ]
     },
     "execution_count": 8,
     "metadata": {},
     "output_type": "execute_result"
    }
   ],
   "source": [
    "ca_counties.dtypes"
   ]
  },
  {
   "cell_type": "code",
   "execution_count": 13,
   "metadata": {},
   "outputs": [
    {
     "data": {
      "text/html": [
       "<div>\n",
       "<style scoped>\n",
       "    .dataframe tbody tr th:only-of-type {\n",
       "        vertical-align: middle;\n",
       "    }\n",
       "\n",
       "    .dataframe tbody tr th {\n",
       "        vertical-align: top;\n",
       "    }\n",
       "\n",
       "    .dataframe thead th {\n",
       "        text-align: right;\n",
       "    }\n",
       "</style>\n",
       "<table border=\"1\" class=\"dataframe\">\n",
       "  <thead>\n",
       "    <tr style=\"text-align: right;\">\n",
       "      <th></th>\n",
       "      <th>fips-new</th>\n",
       "      <th>NAMELSAD10</th>\n",
       "      <th>disaster</th>\n",
       "      <th>severe</th>\n",
       "      <th>supersevere</th>\n",
       "    </tr>\n",
       "  </thead>\n",
       "  <tbody>\n",
       "    <tr>\n",
       "      <th>37</th>\n",
       "      <td>6075</td>\n",
       "      <td>San Francisco County</td>\n",
       "      <td>6</td>\n",
       "      <td>3</td>\n",
       "      <td>0</td>\n",
       "    </tr>\n",
       "    <tr>\n",
       "      <th>13</th>\n",
       "      <td>6027</td>\n",
       "      <td>Inyo County</td>\n",
       "      <td>7</td>\n",
       "      <td>1</td>\n",
       "      <td>1</td>\n",
       "    </tr>\n",
       "    <tr>\n",
       "      <th>25</th>\n",
       "      <td>6051</td>\n",
       "      <td>Mono County</td>\n",
       "      <td>7</td>\n",
       "      <td>2</td>\n",
       "      <td>1</td>\n",
       "    </tr>\n",
       "    <tr>\n",
       "      <th>1</th>\n",
       "      <td>6003</td>\n",
       "      <td>Alpine County</td>\n",
       "      <td>8</td>\n",
       "      <td>3</td>\n",
       "      <td>0</td>\n",
       "    </tr>\n",
       "    <tr>\n",
       "      <th>46</th>\n",
       "      <td>6093</td>\n",
       "      <td>Siskiyou County</td>\n",
       "      <td>8</td>\n",
       "      <td>2</td>\n",
       "      <td>0</td>\n",
       "    </tr>\n",
       "  </tbody>\n",
       "</table>\n",
       "</div>"
      ],
      "text/plain": [
       "   fips-new            NAMELSAD10  disaster  severe  supersevere\n",
       "37     6075  San Francisco County         6       3            0\n",
       "13     6027           Inyo County         7       1            1\n",
       "25     6051           Mono County         7       2            1\n",
       "1      6003         Alpine County         8       3            0\n",
       "46     6093       Siskiyou County         8       2            0"
      ]
     },
     "execution_count": 13,
     "metadata": {},
     "output_type": "execute_result"
    }
   ],
   "source": [
    "disaster_order = ca_counties.sort_values(by=\"disaster\",ascending=True)\n",
    "disaster_order.head(5)"
   ]
  },
  {
   "cell_type": "code",
   "execution_count": null,
   "metadata": {},
   "outputs": [],
   "source": []
  }
 ],
 "metadata": {
  "kernelspec": {
   "display_name": "Python 3",
   "language": "python",
   "name": "python3"
  },
  "language_info": {
   "codemirror_mode": {
    "name": "ipython",
    "version": 3
   },
   "file_extension": ".py",
   "mimetype": "text/x-python",
   "name": "python",
   "nbconvert_exporter": "python",
   "pygments_lexer": "ipython3",
   "version": "3.6.4"
  }
 },
 "nbformat": 4,
 "nbformat_minor": 2
}
